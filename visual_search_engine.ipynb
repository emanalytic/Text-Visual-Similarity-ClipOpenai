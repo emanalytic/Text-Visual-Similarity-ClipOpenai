{
 "cells": [
  {
   "cell_type": "code",
   "execution_count": null,
   "id": "4a46b004-359f-48dd-bc93-964b54ed5793",
   "metadata": {},
   "outputs": [],
   "source": []
  }
 ],
 "metadata": {
  "kernelspec": {
   "display_name": "",
   "name": ""
  },
  "language_info": {
   "name": ""
  }
 },
 "nbformat": 4,
 "nbformat_minor": 5
}
